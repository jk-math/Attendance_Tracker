{
  "nbformat": 4,
  "nbformat_minor": 0,
  "metadata": {
    "colab": {
      "name": "Attendance_Tracker_GH.ipynb",
      "provenance": [],
      "collapsed_sections": [],
      "mount_file_id": "124PhPgwgFQHjYfMNSngmRoXHCEc_q1lE",
      "authorship_tag": "ABX9TyNnEHvjqtoSLdgGdXAqpT6I",
      "include_colab_link": true
    },
    "kernelspec": {
      "name": "python3",
      "display_name": "Python 3"
    },
    "language_info": {
      "name": "python"
    }
  },
  "cells": [
    {
      "cell_type": "markdown",
      "metadata": {
        "id": "view-in-github",
        "colab_type": "text"
      },
      "source": [
        "<a href=\"https://colab.research.google.com/github/jk-math/Attendance_Tracker/blob/main/Attendance_Tracker_GH.ipynb\" target=\"_parent\"><img src=\"https://colab.research.google.com/assets/colab-badge.svg\" alt=\"Open In Colab\"/></a>"
      ]
    },
    {
      "cell_type": "markdown",
      "metadata": {
        "id": "PcLavBttKGqG"
      },
      "source": [
        "Import required libraries"
      ]
    },
    {
      "cell_type": "code",
      "metadata": {
        "id": "TLuwJ0ueKHKN"
      },
      "source": [
        "import os\n",
        "import pandas as pd\n",
        "import datetime\n",
        "import numpy as np\n",
        "import re"
      ],
      "execution_count": null,
      "outputs": []
    },
    {
      "cell_type": "markdown",
      "metadata": {
        "id": "VnSuRmRghLnU"
      },
      "source": [
        "Provide a path to an Excel (.xlsx) or .csv file that will be used to create a class roster pandas dataframe. The files I use have columns titled ID and Name. The ID column is a unique student ID and the Name column is a string that needs to be split into first name, last name, and middle initial. The Name provided in Trinity roster is of the form Last,First MiddleInitial (if the student has middle initial)."
      ]
    },
    {
      "cell_type": "code",
      "metadata": {
        "id": "GKmCflYnRii2"
      },
      "source": [
        "# Will be applied to the Name column in the roster\n",
        "def split_name_roster(name_string):\n",
        "  last, f_m = name_string.strip().split(',')\n",
        "  try:\n",
        "    first, middle = f_m.split(' ')\n",
        "    return first, last, middle \n",
        "    # if name is like Smith,Bob Carl Joe R., this will fail, so the function will return first = Bob Carl Joe R.\n",
        "    # no middle name will be returned in this case\n",
        "  except:\n",
        "    return f_m, last, ' '"
      ],
      "execution_count": null,
      "outputs": []
    },
    {
      "cell_type": "code",
      "metadata": {
        "id": "n8H40H5X07hY"
      },
      "source": [
        "# provide path to a csv or xlsx file\n",
        "# function will read file to a pandas dataframe\n",
        "def read_file(path):\n",
        "  is_csv = path.endswith('.csv')\n",
        "  is_xlsx = path.endswith('.xlsx')\n",
        "\n",
        "  if (not is_csv) and (not is_xlsx):\n",
        "    print('File type {} not supported - upload an Excel workbook or CSV file'.format(path))\n",
        "    return None\n",
        "  elif is_csv:\n",
        "    try:\n",
        "      roster = pd.read_csv(path)\n",
        "    except:\n",
        "      print('Error: CSV file {} provided, but could not be read by Pandas'.format(path))\n",
        "    return roster\n",
        "  else:\n",
        "    try:\n",
        "      roster = pd.read_excel(path)\n",
        "    except:\n",
        "      print('Error: Excel file {} provided, but could not be read by Pandas'.format(path))\n",
        "    return roster\n",
        "  "
      ],
      "execution_count": null,
      "outputs": []
    },
    {
      "cell_type": "code",
      "metadata": {
        "id": "5akk3kXkhFez"
      },
      "source": [
        "# Create csv file to track attendance from the roster provided by Trinity\n",
        "# default is to save the attendance tracker to a csv file in my Drive folders\n",
        "def create_attendance_roster(roster_path, save_path = '/content/drive/MyDrive/attendance/attendance_roster.csv', \n",
        "                             return_df = False, save_to_csv =True, use_time_buffer = False):\n",
        "\n",
        "  extract_name_roster = np.vectorize(split_name_roster) # can apply function to entire column of a dataframe\n",
        "\n",
        "  roster = read_file(roster_path)\n",
        "\n",
        "  roster_cleaned = roster[['ID', 'Name']] # just grab Student ID and Name columns\n",
        "  roster_cleaned = roster_cleaned.dropna() # Roster provided by Trinity has some completely blank rows\n",
        "  roster_cleaned['ID'] = roster_cleaned['ID'].astype(int)\n",
        "\n",
        "  F, L, M = extract_name_roster(roster_cleaned['Name'])\n",
        "  roster_cleaned['First'] = F\n",
        "  roster_cleaned['Last'] = L\n",
        "  roster_cleaned['Middle'] = M\n",
        "  roster_cleaned = roster_cleaned.drop('Name', axis = 1)\n",
        "  roster_cleaned = roster_cleaned.set_index('ID')\n",
        "\n",
        "  n_students = len(roster_cleaned.index)\n",
        "\n",
        "  # create columns to track attendance\n",
        "  roster_cleaned['On Time'] = np.zeros(n_students).astype(int)\n",
        "  roster_cleaned['Late'] = np.zeros(n_students).astype(int)\n",
        "  roster_cleaned['Absent'] = np.zeros(n_students).astype(int)\n",
        "  if use_time_buffer:\n",
        "    roster_cleaned['Even more Late'] = np.zeros(n_students).astype(int)\n",
        "\n",
        "  if save_to_csv:\n",
        "    try:\n",
        "      roster_cleaned.to_csv(save_path)\n",
        "    except:\n",
        "      print('Error - make sure a valid file path is provided to save the roster to a csv file')\n",
        "\n",
        "  if return_df:\n",
        "    return roster_cleaned"
      ],
      "execution_count": null,
      "outputs": []
    },
    {
      "cell_type": "code",
      "metadata": {
        "id": "eS2KgiuFlH-M"
      },
      "source": [
        "roster_path = '/content/drive/MyDrive/attendance/math207_roster.xlsx'\n",
        "\n",
        "save_path = '/content/drive/MyDrive/attendance/math207_attendance_tracker.csv'\n",
        "\n",
        "roster_df = create_attendance_roster(roster_path, save_path = save_path, \n",
        "                                     save_to_csv = True, return_df = True,\n",
        "                                     use_time_buffer = True)"
      ],
      "execution_count": null,
      "outputs": []
    },
    {
      "cell_type": "code",
      "metadata": {
        "id": "e-V0feZ4LbwV"
      },
      "source": [
        "roster_df"
      ],
      "execution_count": null,
      "outputs": []
    },
    {
      "cell_type": "markdown",
      "metadata": {
        "id": "bN1UoQeNNZCT"
      },
      "source": [
        "The attendance report from Teams does not have the student ID, so the function below will be used to create a dictionary where the keys are the student's full names in a single string and the values are the IDs."
      ]
    },
    {
      "cell_type": "code",
      "metadata": {
        "id": "B_8c4vJp6RkN"
      },
      "source": [
        "# create a dictionary where the keys are the students full names put into a single string\n",
        "# the values are the student IDs\n",
        "def name_id_dict(roster_path):\n",
        "  rost = read_file(roster_path)\n",
        "  return dict(zip(rost['First']+' '+ rost['Middle']+ ' '+ rost['Last'], rost['ID']))"
      ],
      "execution_count": null,
      "outputs": []
    },
    {
      "cell_type": "markdown",
      "metadata": {
        "id": "PR5RLg_cpeKE"
      },
      "source": [
        "The Microsoft Teams Attendance Report contains columns named Full Name, User Action (for example Joined or Left), and Timestamp (corresponding to the User Action). The earliest Timestamp indicates when the student joined the class. The student's name will not appear in the file if they did not attend class.\n",
        "\n",
        "If the student logs in using their Trinity account, the Full Name column is of the form Last, First M. (ClassYear). There is no student ID column to uniquely identify students. If the student logs in via a different account, the Full Name entry will not be of this form. It will instead look like \\\\\\\\NameProvided (Guest)\\\"\"\"\" - this is for any person that attends the meeting without being in the scheduled meeting roster on Teams.\n",
        "\n",
        "\n",
        "\n",
        "Make sure to save the Attendance report that you download from Teams as a .xlsx or .csv file. I have found that when the file appears in my Downloads folder, it is saved as a .txt file."
      ]
    },
    {
      "cell_type": "code",
      "metadata": {
        "id": "mcTrWVrppb9I"
      },
      "source": [
        "def split_name_att(name_string, file_path = None):\n",
        "  name_string.strip()\n",
        "  name_string = name_string.strip('\\\\')\n",
        "  name_string = name_string.strip('\\\"')\n",
        "  if re.search('\\(Guest\\)', name_string): # indicates Guest in meeting\n",
        "    names, other = re.split('\\(Guest\\)', name_string)\n",
        "    names.strip() # names will be a string that is whatever name is provided by the Guest\n",
        "    if file_path != None:\n",
        "      print('Guest {} found in meeting {}'.format(names, file_path)) # this will identify the files where Guests appear\n",
        "    return names, 'GUEST', 'GUEST' # need to decide how to handle Guests\n",
        "  else:\n",
        "    last, f_m_yr = name_string.strip().split(',') \n",
        "    f_m = f_m_yr[:-6].strip() # get rid of class year\n",
        "    try:\n",
        "      first, middle = f_m.split(' ')\n",
        "      return first, last, middle \n",
        "      # if name is like Smith,Bob Carl Joe R., this will fail, so the function will return first = Bob Carl Joe R.\n",
        "      # no middle name will be returned in this case\n",
        "    except:\n",
        "      return f_m, last, ' '"
      ],
      "execution_count": null,
      "outputs": []
    },
    {
      "cell_type": "markdown",
      "metadata": {
        "id": "UTuWxU8X4RIY"
      },
      "source": [
        "Change Timestamp info to a datetime object so we can do easy comparisons. The Timestamp is a string of the form 4/5/2021, 9:05:42 AM."
      ]
    },
    {
      "cell_type": "code",
      "metadata": {
        "id": "a0_Q9VZnPpWD"
      },
      "source": [
        "def extract_datetime_info(timestamp_string):\n",
        "  date, time = timestamp_string.split(',')\n",
        "  time = time.lstrip()\n",
        "  month, day, year = date.split('/')\n",
        "  month, day, year = int(month), int(day), int(year)\n",
        "  hour, min, sec_ = time.split(':')\n",
        "  sec, a_or_p = sec_.split(' ')\n",
        "  hour, min, sec = int(hour), int(min), int(sec)\n",
        "  if hour == 12: # the hour parameter of datetime must be in range(24)\n",
        "    hour = 0\n",
        "  if a_or_p == 'AM':\n",
        "    return datetime.datetime(year, month, day, hour = hour, minute = min, second = sec)\n",
        "  else:\n",
        "    return datetime.datetime(year, month, day, hour = hour+12, minute = min, second = sec)"
      ],
      "execution_count": null,
      "outputs": []
    },
    {
      "cell_type": "code",
      "metadata": {
        "id": "RTM_l1LL0rhp"
      },
      "source": [
        "def update_attendance_tracker(att_path, roster_path,\n",
        "                               instructors = ['Kreinbihl, James R.'], start_time = (8, 55),  # start time is hour, minute\n",
        "                              time_buffer = (0,0), use_time_buffer = False): # time_buffer is minute, seconds\n",
        "  att_report = read_file(att_path) # path to Teams attendance report file\n",
        "  roster = read_file(roster_path) # file to an attendance tracker file that will be updated\n",
        "  roster = roster.set_index('ID') # the attendance tracker we created has the ID column set as index\n",
        "  # but when we save it to a csv file, the ID index just becomes a a column\n",
        "  for instructor in instructors:\n",
        "    att_report = att_report[att_report['Full Name'] != instructor] #remove instructors from report\n",
        "  report = att_report.groupby('Full Name')[['Timestamp']].min().reset_index()\n",
        "  # the min timestamp indicates time of arrival\n",
        "  # note that as the instructor, the earliest time that will show as a timestamp is the time that I arrive\n",
        "  # So, IF YOU ARRIVE LATE TO YOUR OWN CLASS, this will not accurately record attendance\n",
        "\n",
        "  n_students = len(roster.index)\n",
        "\n",
        "  extract_name_att = np.vectorize(split_name_att)\n",
        "\n",
        "  F, L, M = extract_name_att(report['Full Name'], file_path = att_path)\n",
        "\n",
        "  report['First'] = F\n",
        "  report['Last'] = L\n",
        "  report['Middle'] = M\n",
        "  report = report.drop('Full Name', axis = 1)\n",
        "  report = report.reset_index(drop=True)\n",
        "\n",
        "  roster_names = name_id_dict(roster_path)\n",
        "\n",
        "  att_names = report['First'] + ' ' + report['Middle'] + ' ' + report['Last']\n",
        "\n",
        "  report['NameString'] = att_names # attendance report does not have IDs - so we will use NameString to uniquely identify students\n",
        "\n",
        "  absent = set(roster_names.keys()) - set(att_names) # students in roster that don't show up in attendance report\n",
        "  guests = set(att_names) - set(roster_names.keys()) # names in attendance report that are not in roster, ie Guests\n",
        "  attended = set(att_names) - guests # students who attended, excluding Guests\n",
        "  n_att = len(attended)\n",
        "\n",
        "  for n in absent:\n",
        "    roster.loc[int(roster_names[n]),['Absent']] += 1 \n",
        "\n",
        "  extract_dt = np.vectorize(extract_datetime_info)\n",
        "\n",
        "  report['Datetime'] = extract_dt(report['Timestamp'])\n",
        "\n",
        "  report.drop('Timestamp',inplace = True, axis = 1)\n",
        "\n",
        "  dt = report['Datetime'][0] # don't need to sort - just picking out day, month, year\n",
        "\n",
        "  day, month, year = dt.day, dt.month, dt.year\n",
        "\n",
        "  st = datetime.datetime(year, month, day, start_time[0], start_time[1], 0)\n",
        "\n",
        "  report['Late'] = (report['Datetime'] > st).astype(int)\n",
        "  # consider small time buffer for those students that arrive only seconds after the start time\n",
        "\n",
        "  report['On Time'] = (report['Datetime'] <= st).astype(int)\n",
        "\n",
        "  att_ids = []\n",
        "  for n in attended:\n",
        "    att_ids.append(roster_names[n])\n",
        "\n",
        "  report.set_index('NameString', inplace=True)\n",
        "  roster.sort_values(by = 'Last', axis = 0, inplace=True)\n",
        "  report.sort_values(by = 'Last', axis = 0, inplace=True)\n",
        "\n",
        "  roster.loc[att_ids,['Late']] += np.array(report.loc[attended, ['Late']])\n",
        "  roster.loc[att_ids,['On Time']] += np.array(report.loc[attended, ['On Time']])\n",
        "\n",
        "  if use_time_buffer:\n",
        "    bst = datetime.datetime(year, month, day, start_time[0], start_time[1]+time_buffer[0], time_buffer[1])\n",
        "    report['Even more Late'] = (report['Datetime'] > bst).astype(int)\n",
        "    roster.loc[att_ids,['Even more Late']] += np.array(report.loc[attended, ['Even more Late']])\n",
        "\n",
        "\n",
        "  roster.to_csv(roster_path) # this will override the original attendance tracking file passed to the function\n",
        "\n",
        "  return roster"
      ],
      "execution_count": null,
      "outputs": []
    },
    {
      "cell_type": "code",
      "metadata": {
        "id": "QWfQKfG9tq3C"
      },
      "source": [
        "base_dir = '/content/drive/MyDrive/attendance/Math207_attendance_reports' # Drive directory containing all Teams attendance reports\n",
        "att_reps = os.listdir('/content/drive/MyDrive/attendance/Math207_attendance_reports/') # list all file names for attendance reports\n",
        "for r in att_reps:\n",
        "  update_attendance_tracker(att_path = os.path.join(base_dir,r),\n",
        "                             roster_path = '/content/drive/MyDrive/attendance/math207_attendance_tracker.csv',\n",
        "                            use_time_buffer = True,\n",
        "                            time_buffer = (1,0))\n"
      ],
      "execution_count": null,
      "outputs": []
    },
    {
      "cell_type": "code",
      "metadata": {
        "id": "k6zhiaFMTpRR"
      },
      "source": [
        "pd.read_csv('/content/drive/MyDrive/attendance/math207_attendance_tracker.csv')"
      ],
      "execution_count": null,
      "outputs": []
    },
    {
      "cell_type": "code",
      "metadata": {
        "id": "C1PV2fk4orkx"
      },
      "source": [
        ""
      ],
      "execution_count": null,
      "outputs": []
    }
  ]
}